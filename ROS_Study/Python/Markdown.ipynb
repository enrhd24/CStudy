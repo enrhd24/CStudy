{
 "cells": [
  {
   "cell_type": "code",
   "execution_count": 4,
   "id": "f0944e62",
   "metadata": {},
   "outputs": [
    {
     "name": "stdout",
     "output_type": "stream",
     "text": [
      "Hello world\n"
     ]
    }
   ],
   "source": [
    "print('Hello world')"
   ]
  },
  {
   "cell_type": "markdown",
   "id": "d69edda7",
   "metadata": {},
   "source": [
    "# 1. 제목 달기"
   ]
  },
  {
   "cell_type": "markdown",
   "id": "ad781498",
   "metadata": {},
   "source": [
    "# Big Title\n",
    "## Midium Title\n",
    "### Small Title"
   ]
  },
  {
   "cell_type": "markdown",
   "id": "17fd3170",
   "metadata": {},
   "source": [
    "# 2. 목록 만들기"
   ]
  },
  {
   "cell_type": "markdown",
   "id": "ac3d60c7",
   "metadata": {},
   "source": [
    "### List without numter\n",
    "\n",
    "* Item\n",
    "* Item\n",
    "\n",
    "### List with number\n",
    "\n",
    "1. Item\n",
    "2. Item"
   ]
  },
  {
   "cell_type": "markdown",
   "id": "5cf2bba1",
   "metadata": {},
   "source": [
    "# 3. 강조와 기울임"
   ]
  },
  {
   "cell_type": "markdown",
   "id": "799a1430",
   "metadata": {},
   "source": [
    "Italic : *Italic*<br>\n",
    "Bold : **Bold**<br>\n",
    "both : ***both***<br>"
   ]
  },
  {
   "cell_type": "markdown",
   "id": "a3fd5a6b",
   "metadata": {},
   "source": [
    "# 4. 코드 블록과 인용문"
   ]
  },
  {
   "cell_type": "markdown",
   "id": "00fd9e2a",
   "metadata": {},
   "source": [
    "Normal Test\n",
    "> quote\n",
    "\n",
    "Normal Test"
   ]
  }
 ],
 "metadata": {
  "kernelspec": {
   "display_name": "Python 3 (ipykernel)",
   "language": "python",
   "name": "python3"
  },
  "language_info": {
   "codemirror_mode": {
    "name": "ipython",
    "version": 3
   },
   "file_extension": ".py",
   "mimetype": "text/x-python",
   "name": "python",
   "nbconvert_exporter": "python",
   "pygments_lexer": "ipython3",
   "version": "3.8.10"
  }
 },
 "nbformat": 4,
 "nbformat_minor": 5
}
